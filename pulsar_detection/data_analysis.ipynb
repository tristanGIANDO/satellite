{
 "cells": [
  {
   "cell_type": "markdown",
   "id": "6ad603c9",
   "metadata": {},
   "source": [
    "Pulsars are a rare type of Neutron star that produce radio emission detectable here on Earth. They are of considerable scientific interest as probes of space-time, the inter-stellar medium, and states of matter. Machine learning tools are now being used to automatically label pulsar candidates to facilitate rapid analysis. Classification systems in particular are being widely adopted,which treat the candidate data sets as binary classification problems.\n",
    "\n",
    "Attribute Information:\n",
    "Each candidate is described by 8 continuous variables, and a single class variable. The first four are simple statistics obtained from the integrated pulse profile (folded profile). This is an array of continuous variables that describe a longitude-resolved version of the signal that has been averaged in both time and frequency . The remaining four variables are similarly obtained from the DM-SNR curve . These are summarised below:\n",
    "\n",
    "1. Mean of the integrated profile.\n",
    "2. Standard deviation of the integrated profile.\n",
    "3. Excess kurtosis of the integrated profile.\n",
    "4. Skewness of the integrated profile.\n",
    "5. Mean of the DM-SNR curve.\n",
    "6. Standard deviation of the DM-SNR curve.\n",
    "7. Excess kurtosis of the DM-SNR curve.\n",
    "8. Skewness of the DM-SNR curve.\n",
    "9. Class\n",
    "\n",
    "Pulsars are a rare type of Neutron star that produce radio emission detectable here on Earth.\n",
    "As pulsars rotate, their emission beam sweeps across the sky, and when this crosses our line of sight produces a detectable pattern of broadband radio emission. As pulsars rotate rapidly, this pattern repeats periodically.\n",
    "Thus pulsar search involves looking for periodic radio signals with large radio telescopes. Each pulsar produces a slightly different emission pattern, which varies slightly with each rotation.\n",
    "However, in practice, almost all detections are caused by radio frequency interference (RFI) and noise, making legitimate signals hard to find.\n",
    "\n",
    "Integrated Profile is the signal obtained from folding/Integrating the pulsar signals w.r.t rotational period (Slide 11 of http://ipta.phys.wvu.edu/files/student-week-2017/IPTA2017_KuoLiu_pulsartiming.pdf)\n",
    "DM SNR Curve: Dispersion Measure of the Signal to Noise Ratio (column density of free electrons along the line of sight) (Refer https://arxiv.org/pdf/1005.5068.pdf#:~:text=period%2DDM%20diagram%3B%20good%20agreement,pulsars%20in%20their%20candidate%20plots.)\n",
    "\n",
    "These modified signals from the pulsar signal now give a time series of information, over which the following quantities are calculated\n",
    "Mean and Standard Deviation and the regular statistical definitions\n",
    "Skewness is the asymmetry of the probability distribution about its mean\n",
    "Kurtosis measures the \"fatness\" of the tails of a distribution"
   ]
  }
 ],
 "metadata": {
  "language_info": {
   "name": "python"
  }
 },
 "nbformat": 4,
 "nbformat_minor": 5
}
